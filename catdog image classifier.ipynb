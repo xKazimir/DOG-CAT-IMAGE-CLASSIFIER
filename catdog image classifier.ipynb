{
 "cells": [
  {
   "cell_type": "code",
   "id": "initial_id",
   "metadata": {
    "collapsed": true,
    "ExecuteTime": {
     "end_time": "2025-09-25T17:15:00.252360Z",
     "start_time": "2025-09-25T17:15:00.245460Z"
    }
   },
   "source": [
    "import pandas as pd\n",
    "import numpy as np\n",
    "import matplotlib.pyplot as plt\n",
    "import warnings\n",
    "import os\n",
    "import tqdm\n",
    "import random\n",
    "from keras.preprocessing.image import load_img\n",
    "warnings.filterwarnings('ignore')\n",
    "import zipfile"
   ],
   "outputs": [],
   "execution_count": 4
  },
  {
   "metadata": {},
   "cell_type": "markdown",
   "source": [
    "mkdir -p data\n",
    "\n",
    "wget \"https://download.microsoft.com/download/3/E/1/3E1C3F21-ECDB-4869-8368-6DEBA77B919F/kagglecatsanddogs_5340.zip\" -O data/cats_and_dogs.zip\n",
    "\n",
    "ls -lh data/cats_and_dogs.zip"
   ],
   "id": "9611dadd161161d1"
  },
  {
   "metadata": {},
   "cell_type": "code",
   "outputs": [],
   "execution_count": null,
   "source": [
    "with zipfile.ZipFile(zip_path, 'r') as zip_ref:\n",
    "    zip_ref.extractall(\"PetImages\")"
   ],
   "id": "c30e61e16a220c"
  },
  {
   "metadata": {
    "ExecuteTime": {
     "end_time": "2025-09-25T17:28:28.018700Z",
     "start_time": "2025-09-25T17:28:27.880045Z"
    }
   },
   "cell_type": "code",
   "source": "",
   "id": "e439f5ac95f46551",
   "outputs": [
    {
     "name": "stdout",
     "output_type": "stream",
     "text": [
      "/content/cats_and_dogs.zip: No such file or directory\r\n"
     ]
    }
   ],
   "execution_count": 27
  },
  {
   "metadata": {},
   "cell_type": "code",
   "outputs": [],
   "execution_count": null,
   "source": "",
   "id": "981de74df07b1a37"
  },
  {
   "metadata": {},
   "cell_type": "code",
   "outputs": [],
   "execution_count": null,
   "source": "",
   "id": "fa9b968a2fac4953"
  }
 ],
 "metadata": {
  "kernelspec": {
   "display_name": "Python 3",
   "language": "python",
   "name": "python3"
  },
  "language_info": {
   "codemirror_mode": {
    "name": "ipython",
    "version": 2
   },
   "file_extension": ".py",
   "mimetype": "text/x-python",
   "name": "python",
   "nbconvert_exporter": "python",
   "pygments_lexer": "ipython2",
   "version": "2.7.6"
  }
 },
 "nbformat": 4,
 "nbformat_minor": 5
}
